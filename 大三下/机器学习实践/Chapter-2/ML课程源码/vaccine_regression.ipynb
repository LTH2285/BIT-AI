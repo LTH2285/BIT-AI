{
 "cells": [
  {
   "cell_type": "code",
   "execution_count": 1,
   "metadata": {},
   "outputs": [
    {
     "data": {
      "text/html": [
       "<div>\n",
       "<style scoped>\n",
       "    .dataframe tbody tr th:only-of-type {\n",
       "        vertical-align: middle;\n",
       "    }\n",
       "\n",
       "    .dataframe tbody tr th {\n",
       "        vertical-align: top;\n",
       "    }\n",
       "\n",
       "    .dataframe thead th {\n",
       "        text-align: right;\n",
       "    }\n",
       "</style>\n",
       "<table border=\"1\" class=\"dataframe\">\n",
       "  <thead>\n",
       "    <tr style=\"text-align: right;\">\n",
       "      <th></th>\n",
       "      <th>Year</th>\n",
       "      <th>Values</th>\n",
       "    </tr>\n",
       "  </thead>\n",
       "  <tbody>\n",
       "    <tr>\n",
       "      <th>0</th>\n",
       "      <td>1983</td>\n",
       "      <td>48.676809</td>\n",
       "    </tr>\n",
       "    <tr>\n",
       "      <th>1</th>\n",
       "      <td>1984</td>\n",
       "      <td>50.653151</td>\n",
       "    </tr>\n",
       "    <tr>\n",
       "      <th>2</th>\n",
       "      <td>1985</td>\n",
       "      <td>45.603729</td>\n",
       "    </tr>\n",
       "    <tr>\n",
       "      <th>3</th>\n",
       "      <td>1986</td>\n",
       "      <td>45.511160</td>\n",
       "    </tr>\n",
       "    <tr>\n",
       "      <th>4</th>\n",
       "      <td>1987</td>\n",
       "      <td>52.882892</td>\n",
       "    </tr>\n",
       "  </tbody>\n",
       "</table>\n",
       "</div>"
      ],
      "text/plain": [
       "   Year     Values\n",
       "0  1983  48.676809\n",
       "1  1984  50.653151\n",
       "2  1985  45.603729\n",
       "3  1986  45.511160\n",
       "4  1987  52.882892"
      ]
     },
     "execution_count": 1,
     "metadata": {},
     "output_type": "execute_result"
    }
   ],
   "source": [
    "import numpy as np\n",
    "import pandas as pd\n",
    "\n",
    "df = pd.read_csv(\"vaccine.csv\")\n",
    "df.head()"
   ]
  },
  {
   "cell_type": "code",
   "execution_count": 2,
   "metadata": {},
   "outputs": [
    {
     "data": {
      "text/plain": [
       "<matplotlib.collections.PathCollection at 0x254a1350310>"
      ]
     },
     "execution_count": 2,
     "metadata": {},
     "output_type": "execute_result"
    },
    {
     "data": {
      "image/png": "[encoded data removed]",
      "text/plain": [
       "<Figure size 432x288 with 1 Axes>"
      ]
     },
     "metadata": {
      "needs_background": "light"
     },
     "output_type": "display_data"
    }
   ],
   "source": [
    "import matplotlib.pyplot as plt\n",
    "\n",
    "x = df[\"Year\"]\n",
    "y = df[\"Values\"]\n",
    "plt.plot(x,y,\"r\")\n",
    "plt.scatter(x,y)"
   ]
  },
  {
   "cell_type": "code",
   "execution_count": 3,
   "metadata": {},
   "outputs": [],
   "source": [
    "train_df = df[:int(len(df)*0.7)]\n",
    "test_df = df[int(len(df)*0.7):]\n",
    "X_train = train_df['Year'].values\n",
    "y_train = train_df['Values'].values\n",
    "X_test = test_df['Year'].values\n",
    "y_test = test_df['Values'].values"
   ]
  },
  {
   "cell_type": "code",
   "execution_count": 4,
   "metadata": {},
   "outputs": [
    {
     "data": {
      "text/plain": [
       "array([[81.83437635],\n",
       "       [83.09935437],\n",
       "       [84.36433239],\n",
       "       [85.62931041],\n",
       "       [86.89428843],\n",
       "       [88.15926645],\n",
       "       [89.42424447],\n",
       "       [90.68922249],\n",
       "       [91.95420051],\n",
       "       [93.21917853],\n",
       "       [94.48415655]])"
      ]
     },
     "execution_count": 4,
     "metadata": {},
     "output_type": "execute_result"
    }
   ],
   "source": [
    "from sklearn.linear_model import LinearRegression\n",
    "model = LinearRegression()\n",
    "model.fit(X_train.reshape(len(X_train),1),y_train.reshape(len(y_train),1))\n",
    "results = model.predict(X_test.reshape(len(X_test),1))\n",
    "results"
   ]
  },
  {
   "cell_type": "code",
   "execution_count": 5,
   "metadata": {},
   "outputs": [
    {
     "name": "stdout",
     "output_type": "stream",
     "text": [
      "线性回归平均绝对误差： 6.011979515629853\n",
      "线性回归均方误差： 43.53185829515393\n"
     ]
    }
   ],
   "source": [
    "from sklearn.metrics import mean_absolute_error\n",
    "from sklearn.metrics import mean_squared_error\n",
    "print(\"线性回归平均绝对误差：\",mean_absolute_error(y_test, results.flatten()))\n",
    "print(\"线性回归均方误差：\",mean_squared_error(y_test, results.flatten()))"
   ]
  },
  {
   "cell_type": "code",
   "execution_count": 6,
   "metadata": {},
   "outputs": [
    {
     "data": {
      "text/plain": [
       "array([71.98010746, 70.78151826, 69.38584368, 67.79308372, 66.00323838,\n",
       "       64.01630767, 61.83229158, 59.45119011, 56.87300326, 54.09773104,\n",
       "       51.12537344])"
      ]
     },
     "execution_count": 6,
     "metadata": {},
     "output_type": "execute_result"
    }
   ],
   "source": [
    "from sklearn.preprocessing import PolynomialFeatures\n",
    "\n",
    "\n",
    "poly_features_2 = PolynomialFeatures(degree = 2, include_bias=False)\n",
    "poly_X_train_2 = poly_features_2.fit_transform(X_train.reshape(len(X_train),1))\n",
    "poly_X_test_2 = poly_features_2.fit_transform(X_test.reshape(len(X_test),1))\n",
    "\n",
    "model = LinearRegression()\n",
    "model.fit(poly_X_train_2, y_train.reshape(len(X_train),1))\n",
    "results_2 = model.predict(poly_X_test_2)\n",
    "results_2.flatten()"
   ]
  },
  {
   "cell_type": "code",
   "execution_count": 7,
   "metadata": {},
   "outputs": [
    {
     "name": "stdout",
     "output_type": "stream",
     "text": [
      "2次多项式线性回归平均绝对误差： 19.792070829678778\n",
      "2次多项式线性回归均方误差： 464.3290384792495\n"
     ]
    }
   ],
   "source": [
    "print(\"2次多项式线性回归平均绝对误差：\",mean_absolute_error(y_test, results_2.flatten()))\n",
    "print(\"2次多项式线性回归均方误差：\",mean_squared_error(y_test, results_2.flatten()))"
   ]
  },
  {
   "cell_type": "code",
   "execution_count": 8,
   "metadata": {},
   "outputs": [
    {
     "name": "stdout",
     "output_type": "stream",
     "text": [
      "3次多项式线性回归平均绝对误差： 4.547691990376819\n",
      "3次多项式线性回归均方误差： 29.933057083341293\n",
      "4次多项式线性回归平均绝对误差： 4.424715798155921\n",
      "4次多项式线性回归均方误差： 29.032746251173272\n",
      "5次多项式线性回归平均绝对误差： 4.3416168864333065\n",
      "5次多项式线性回归均方误差： 28.22193293725121\n"
     ]
    }
   ],
   "source": [
    "from sklearn.pipeline import make_pipeline\n",
    "\n",
    "X_train = X_train.reshape(len(X_train),1)\n",
    "X_test = X_test.reshape(len(X_test),1)\n",
    "y_train = y_train.reshape(len(y_train),1)\n",
    "for m in [3,4,5]:\n",
    "    model = make_pipeline(PolynomialFeatures(m,include_bias=False),LinearRegression())\n",
    "    model.fit(X_train,y_train)\n",
    "    pre_y = model.predict(X_test)\n",
    "    print(\"{}次多项式线性回归平均绝对误差：\".format(m),mean_absolute_error(y_test, pre_y.flatten()))\n",
    "    print(\"{}次多项式线性回归均方误差：\".format(m),mean_squared_error(y_test, pre_y.flatten()))"
   ]
  },
  {
   "cell_type": "code",
   "execution_count": 9,
   "metadata": {},
   "outputs": [
    {
     "data": {
      "text/plain": [
       "Text(0, 0.5, 'MSE')"
      ]
     },
     "execution_count": 9,
     "metadata": {},
     "output_type": "execute_result"
    },
    {
     "data": {
      "image/png": "[encoded data removed]",
      "text/plain": [
       "<Figure size 432x288 with 1 Axes>"
      ]
     },
     "metadata": {
      "needs_background": "light"
     },
     "output_type": "display_data"
    }
   ],
   "source": [
    "mse = []\n",
    "m = 1\n",
    "m_max = 10\n",
    "while m<=m_max:\n",
    "    model = make_pipeline(PolynomialFeatures(m, include_bias=False),LinearRegression())\n",
    "    model.fit(X_train,y_train)\n",
    "    pre_y = model.predict(X_test)\n",
    "    mse.append(mean_squared_error(y_test, pre_y.flatten()))\n",
    "    m+=1\n",
    "\n",
    "plt.plot([i for i in range(1, m_max+1)], mse ,'r')\n",
    "plt.scatter([i for i in range(1 , m_max+1)],mse)\n",
    "plt.title('MSE of m degree of polynomial regreesion')\n",
    "plt.xlabel('m')\n",
    "plt.ylabel(\"MSE\")"
   ]
  },
  {
   "cell_type": "code",
   "execution_count": null,
   "metadata": {},
   "outputs": [],
   "source": []
  }
 ],
 "metadata": {
  "kernelspec": {
   "display_name": "Python 3",
   "language": "python",
   "name": "python3"
  },
  "language_info": {
   "codemirror_mode": {
    "name": "ipython",
    "version": 3
   },
   "file_extension": ".py",
   "mimetype": "text/x-python",
   "name": "python",
   "nbconvert_exporter": "python",
   "pygments_lexer": "ipython3",
   "version": "3.8.3"
  }
 },
 "nbformat": 4,
 "nbformat_minor": 4
}
