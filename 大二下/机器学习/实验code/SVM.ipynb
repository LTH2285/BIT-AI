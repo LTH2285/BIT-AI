{
 "cells": [
  {
   "cell_type": "code",
   "execution_count": 2,
   "metadata": {},
   "outputs": [],
   "source": [
    "import sklearn as sk\n",
    "import numpy as np\n",
    "from sklearn import datasets\n",
    "import matplotlib.pyplot as plt\n",
    "from sklearn.model_selection import train_test_split\n",
    "from sklearn import svm"
   ]
  },
  {
   "cell_type": "code",
   "execution_count": 3,
   "metadata": {},
   "outputs": [],
   "source": [
    "iris = datasets.load_iris()"
   ]
  },
  {
   "cell_type": "code",
   "execution_count": 4,
   "metadata": {},
   "outputs": [
    {
     "name": "stdout",
     "output_type": "stream",
     "text": [
      "[0 0 0 0 0 0 0 0 0 0 0 0 0 0 0 0 0 0 0 0 0 0 0 0 0 0 0 0 0 0 0 0 0 0 0 0 0\n",
      " 0 0 0 0 0 0 0 0 0 0 0 0 0 1 1 1 1 1 1 1 1 1 1 1 1 1 1 1 1 1 1 1 1 1 1 1 1\n",
      " 1 1 1 1 1 1 1 1 1 1 1 1 1 1 1 1 1 1 1 1 1 1 1 1 1 1 2 2 2 2 2 2 2 2 2 2 2\n",
      " 2 2 2 2 2 2 2 2 2 2 2 2 2 2 2 2 2 2 2 2 2 2 2 2 2 2 2 2 2 2 2 2 2 2 2 2 2\n",
      " 2 2]\n"
     ]
    }
   ],
   "source": [
    "#iris数据库中的label分为0、1、2\n",
    "print(iris.target)"
   ]
  },
  {
   "cell_type": "code",
   "execution_count": 5,
   "metadata": {},
   "outputs": [],
   "source": [
    "Y = iris.target\n",
    "X = iris.data[:]"
   ]
  },
  {
   "cell_type": "code",
   "execution_count": 6,
   "metadata": {},
   "outputs": [],
   "source": [
    "#划分并随即打乱数据\n",
    "train_data, test_data, train_label, test_label = train_test_split(X, Y, random_state=1, train_size=0.7,test_size=0.3)"
   ]
  },
  {
   "cell_type": "code",
   "execution_count": 13,
   "metadata": {},
   "outputs": [
    {
     "name": "stdout",
     "output_type": "stream",
     "text": [
      "分类器1：train_acc: 0.98, test_acc: 1.0\n",
      "分类器2：train_acc: 0.97, test_acc: 0.91\n",
      "分类器3：train_acc: 0.98, test_acc: 0.96\n",
      "分类器4：train_acc: 0.97, test_acc: 1.0\n"
     ]
    }
   ],
   "source": [
    "#测试不同种类分类器\n",
    "i=1\n",
    "C = 1.0  \n",
    "models = (svm.SVC(kernel='linear', C=C),\n",
    "          svm.LinearSVC(C=C, max_iter=10000),\n",
    "          svm.SVC(kernel='rbf', gamma=0.7, C=C),\n",
    "          svm.SVC(kernel='poly', degree=3, gamma='auto', C=C))\n",
    "for model in models:\n",
    "    model.fit(train_data,train_label)\n",
    "    print(\"分类器{}：train_acc: {}, test_acc: {}\".format(i,round(model.score(train_data,train_label),2),round(model.score(test_data,test_label),2)))\n",
    "    i+=1 "
   ]
  },
  {
   "cell_type": "code",
   "execution_count": 10,
   "metadata": {},
   "outputs": [
    {
     "data": {
      "image/png": "[encoded data removed]",
      "text/plain": [
       "<Figure size 432x288 with 1 Axes>"
      ]
     },
     "metadata": {
      "needs_background": "light"
     },
     "output_type": "display_data"
    }
   ],
   "source": [
    "#针对高斯核中gamma参数进行测试\n",
    "i=0\n",
    "x=[]\n",
    "y=[]\n",
    "for j in range(300):\n",
    "    i+=1\n",
    "    model = svm.SVC(C=5, kernel='rbf',gamma=i*0.1)\n",
    "    model.fit(train_data,train_label)\n",
    "    x.append(i*0.1)\n",
    "    y.append(round(model.score(test_data,test_label),2))\n",
    "plt.scatter(x,y)\n",
    "plt.xlabel(\"gamma\",fontsize=18)\n",
    "plt.ylabel(\"test_acc\",fontsize=18)\n",
    "plt.show()"
   ]
  },
  {
   "cell_type": "code",
   "execution_count": 11,
   "metadata": {},
   "outputs": [
    {
     "data": {
      "image/png": "[encoded data removed]",
      "text/plain": [
       "<Figure size 432x288 with 1 Axes>"
      ]
     },
     "metadata": {
      "needs_background": "light"
     },
     "output_type": "display_data"
    }
   ],
   "source": [
    "#针对高斯核中正则化参数进行测试\n",
    "i=0\n",
    "x=[]\n",
    "y=[]\n",
    "for j in range(300):\n",
    "    i+=1\n",
    "    model = svm.SVC(C=i*0.1, kernel='rbf',gamma=5 ,decision_function_shape='ovr')\n",
    "    model.fit(train_data,train_label)\n",
    "    x.append(i*0.1)\n",
    "    y.append(round(model.score(test_data,test_label),2))\n",
    "plt.scatter(x,y)\n",
    "plt.xlabel(\"C\",fontsize=18)\n",
    "plt.ylabel(\"test_acc\",fontsize=18)\n",
    "plt.show()"
   ]
  },
  {
   "cell_type": "code",
   "execution_count": 12,
   "metadata": {},
   "outputs": [
    {
     "data": {
      "image/png": "[encoded data removed]",
      "text/plain": [
       "<Figure size 432x288 with 1 Axes>"
      ]
     },
     "metadata": {
      "needs_background": "light"
     },
     "output_type": "display_data"
    }
   ],
   "source": [
    "#针对多项式回归中degree函数进行测试\n",
    "i=0\n",
    "x=[]\n",
    "y=[]\n",
    "for j in range(10):\n",
    "    i+=1\n",
    "    model = svm.SVC(C=1, kernel='poly',degree=i,gamma='auto')\n",
    "    model.fit(train_data,train_label)\n",
    "    x.append(i)\n",
    "    y.append(round(model.score(test_data,test_label),2))\n",
    "plt.scatter(x,y)\n",
    "plt.xlabel(\"degree\",fontsize=18)\n",
    "plt.ylabel(\"test_acc\",fontsize=18)\n",
    "plt.show()"
   ]
  }
 ],
 "metadata": {
  "kernelspec": {
   "display_name": "base",
   "language": "python",
   "name": "python3"
  },
  "language_info": {
   "codemirror_mode": {
    "name": "ipython",
    "version": 3
   },
   "file_extension": ".py",
   "mimetype": "text/x-python",
   "name": "python",
   "nbconvert_exporter": "python",
   "pygments_lexer": "ipython3",
   "version": "3.8.3 (default, Jul  2 2020, 17:30:36) [MSC v.1916 64 bit (AMD64)]"
  },
  "tianchi_metadata": {
   "competitions": [],
   "datasets": [],
   "description": "",
   "notebookId": "36770",
   "source": "ailab"
  },
  "vscode": {
   "interpreter": {
    "hash": "7758e92e9a61d7a3490898707f7eeb937c85e9d1e8d4e877cc6c187218f226d5"
   }
  }
 },
 "nbformat": 4,
 "nbformat_minor": 4
}
