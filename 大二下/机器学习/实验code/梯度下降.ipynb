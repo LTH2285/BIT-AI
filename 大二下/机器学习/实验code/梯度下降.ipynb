{
 "cells": [
  {
   "cell_type": "code",
   "execution_count": 1,
   "metadata": {},
   "outputs": [],
   "source": [
    "import pandas as pd\n",
    "import numpy as np\n",
    "import matplotlib.pyplot as plt \n",
    "from IPython import display"
   ]
  },
  {
   "cell_type": "code",
   "execution_count": 2,
   "metadata": {},
   "outputs": [],
   "source": [
    "#数据格式转换\n",
    "x_data=np.array([55, 71, 68, 87, 101, 87, 75, 78, 93, 73])\n",
    "y_data=np.array([91, 101, 87, 109, 129, 98, 95, 101, 104, 93])"
   ]
  },
  {
   "cell_type": "code",
   "execution_count": 3,
   "metadata": {},
   "outputs": [
    {
     "data": {
      "image/png": "[encoded data removed]",
      "text/plain": [
       "<Figure size 432x288 with 1 Axes>"
      ]
     },
     "metadata": {
      "needs_background": "light"
     },
     "output_type": "display_data"
    }
   ],
   "source": [
    "#数据分布可视化\n",
    "plt.scatter(x_data,y_data)\n",
    "plt.show()"
   ]
  },
  {
   "cell_type": "code",
   "execution_count": 4,
   "metadata": {},
   "outputs": [],
   "source": [
    "#最小二乘法\n",
    "def ols(x,y):\n",
    "    x1=x\n",
    "    y1=y\n",
    "    a=0\n",
    "    b=0\n",
    "    x_len=len(x1)\n",
    "    y_len=len(y1)\n",
    "    sum_1=sum_2=sum_3=sum_4=sum_x=sum_y=x_bar=y_bar=0\n",
    "    for i in range(x_len):\n",
    "        sum_1+=x[i]*y[i]\n",
    "        sum_3+=x[i]*x[i]\n",
    "        sum_x+=x[i]\n",
    "        sum_y+=y[i]\n",
    "    sum_2=(sum_x*sum_y)/x_len\n",
    "    sum_4=sum_x*sum_x/x_len\n",
    "    a=(sum_1-sum_2)/(sum_3-sum_4)\n",
    "    y_bar=sum_y/10\n",
    "    x_bar=sum_x/10\n",
    "    b=y_bar-a*x_bar\n",
    "    print(a,b)\n",
    "    x = np.arange(50,110,0.5)\n",
    "    y = x.dot(a) + b\n",
    "    plt.scatter(x, y) # predicted\n",
    "    plt.scatter(x_data,y_data)"
   ]
  },
  {
   "cell_type": "code",
   "execution_count": 5,
   "metadata": {},
   "outputs": [],
   "source": [
    "#随机梯度下降\n",
    "\n",
    "# 实现一次对w 和 b 的更新\n",
    "def step_gradient(w_current, b_current, learning_rate):\n",
    "    w_gradient = 0\n",
    "    b_gradient = 0\n",
    "    for i in range(0, 10):\n",
    "        x = x_data[i]\n",
    "        y = y_data[i]\n",
    "        w_gradient += (1 / 10) * ((w_current * x + b_current) - y) * x\n",
    "        b_gradient += (1 / 10) * ((w_current * x + b_current) - y)\n",
    "    new_w = w_current - (learning_rate * w_gradient)\n",
    "    new_b = b_current - (learning_rate * b_gradient)\n",
    "    return [new_w, new_b]\n",
    "\n",
    "# 循环更新num_iterations次，返回w,b\n",
    "def gradient_descent_runner(starting_w, starting_b, learning_rate, num_iterations):\n",
    "    w = starting_w\n",
    "    b = starting_b\n",
    "    for i in range(num_iterations):\n",
    "        w, b = step_gradient(w, b, learning_rate)\n",
    "    return [w, b]\n",
    "\n",
    "\n",
    "def SGD():\n",
    "    #初始化\n",
    "    learning_rate = 0.00025\n",
    "    initial_w = 0\n",
    "    initial_b = 0\n",
    "    num_iterations = 1000000\n",
    "    print(\"运行中：\")\n",
    "    w, b = gradient_descent_runner( initial_w, initial_b, learning_rate, num_iterations)\n",
    "    print(\"w = {1},b = {2}\".format(num_iterations, w,b))\n",
    "    x = np.arange(50,110,0.5)\n",
    "    y = x.dot(w) + b\n",
    "    plt.scatter(x, y) # predicted\n",
    "    plt.scatter(x_data,y_data)"
   ]
  },
  {
   "cell_type": "code",
   "execution_count": 6,
   "metadata": {},
   "outputs": [
    {
     "name": "stdout",
     "output_type": "stream",
     "text": [
      "运行中：\n",
      "w = 0.7185075407616884,b = 44.179662148739176\n"
     ]
    },
    {
     "data": {
      "image/png": "[encoded data removed]",
      "text/plain": [
       "<Figure size 432x288 with 1 Axes>"
      ]
     },
     "metadata": {
      "needs_background": "light"
     },
     "output_type": "display_data"
    }
   ],
   "source": [
    "SGD()"
   ]
  },
  {
   "cell_type": "code",
   "execution_count": 8,
   "metadata": {},
   "outputs": [
    {
     "name": "stdout",
     "output_type": "stream",
     "text": [
      "0.7175629008386821 44.25604341391185\n"
     ]
    },
    {
     "data": {
      "image/png": "[encoded data removed]",
      "text/plain": [
       "<Figure size 432x288 with 1 Axes>"
      ]
     },
     "metadata": {
      "needs_background": "light"
     },
     "output_type": "display_data"
    }
   ],
   "source": [
    "ols(x_data,y_data)"
   ]
  }
 ],
 "metadata": {
  "kernelspec": {
   "display_name": "Python 3",
   "language": "python",
   "name": "python3"
  },
  "language_info": {
   "codemirror_mode": {
    "name": "ipython",
    "version": 3
   },
   "file_extension": ".py",
   "mimetype": "text/x-python",
   "name": "python",
   "nbconvert_exporter": "python",
   "pygments_lexer": "ipython3",
   "version": "3.6.5"
  },
  "tianchi_metadata": {
   "competitions": [],
   "datasets": [],
   "description": "",
   "notebookId": "34035",
   "source": "ailab"
  }
 },
 "nbformat": 4,
 "nbformat_minor": 4
}
